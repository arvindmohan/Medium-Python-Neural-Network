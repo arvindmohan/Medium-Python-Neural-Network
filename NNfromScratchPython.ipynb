{
 "cells": [
  {
   "cell_type": "code",
   "execution_count": 1,
   "metadata": {},
   "outputs": [],
   "source": [
    "import numpy as np\n",
    "from keras.datasets import mnist\n",
    "from keras.utils import np_utils\n",
    "import tensorflow as tf"
   ]
  },
  {
   "cell_type": "code",
   "execution_count": 2,
   "metadata": {},
   "outputs": [],
   "source": [
    "# load MNIST from server\n",
    "(x_train, y_train), (x_test, y_test) = mnist.load_data()\n",
    "# training data : 60000 samples\n",
    "# reshape and normalize input data\n",
    "x_train = x_train.reshape(x_train.shape[0], 1, 28*28)\n",
    "x_train = x_train.astype('float32')\n",
    "x_train /= 255\n",
    "# encode output which is a number in range [0,9] into a vector of size 10\n",
    "# e.g. number 3 will become [0, 0, 0, 1, 0, 0, 0, 0, 0, 0]\n",
    "y_train = np_utils.to_categorical(y_train)\n",
    "\n",
    "# same for test data : 10000 samples\n",
    "x_test = x_test.reshape(x_test.shape[0], 1, 28*28)\n",
    "x_test = x_test.astype('float32')\n",
    "x_test /= 255\n",
    "y_test = np_utils.to_categorical(y_test)"
   ]
  },
  {
   "cell_type": "code",
   "execution_count": 3,
   "metadata": {},
   "outputs": [
    {
     "data": {
      "text/plain": [
       "(60000, 1, 784)"
      ]
     },
     "execution_count": 3,
     "metadata": {},
     "output_type": "execute_result"
    }
   ],
   "source": [
    "x_train.shape"
   ]
  },
  {
   "cell_type": "code",
   "execution_count": 4,
   "metadata": {},
   "outputs": [],
   "source": [
    "def init_layer_weights(input_size, output_size):\n",
    "    weights = np.random.rand(input_size, output_size) - 0.5;\n",
    "    bias = np.random.rand(1, output_size) - 0.5;\n",
    "    return weights, bias\n",
    "\n",
    "def mse(y_true, y_pred):\n",
    "    return np.mean(np.power(y_true-y_pred, 2))\n",
    "\n",
    "def mse_prime(y_true, y_pred):\n",
    "    return 2*(y_pred-y_true)/y_true.size"
   ]
  },
  {
   "cell_type": "code",
   "execution_count": 5,
   "metadata": {},
   "outputs": [],
   "source": [
    "def forward_propagation(input_data, layer):\n",
    "    weights, bias = layer\n",
    "    output = np.dot(input_data, weights) + bias\n",
    "    return output\n",
    "\n",
    "def backward_propagation(output_error, input_data, layer, learning_rate):\n",
    "    weights, bias = layer\n",
    "    input_error = np.dot(output_error, weights.T)\n",
    "    weights_error = np.dot(input_data.T, output_error)\n",
    "    weights_updated = weights -  (learning_rate * weights_error)\n",
    "    bias_updated = bias - (learning_rate * output_error)\n",
    "    updated_layer = (weights_updated, bias_updated)\n",
    "    return input_error, updated_layer\n",
    "\n",
    "def forward_propagation_activation(input_data):\n",
    "    output = np.tanh(input_data)\n",
    "    return output\n",
    "\n",
    "def backward_propagation_activation(output_error, input_data):\n",
    "    activation_prime = 1 - np.tanh(input_data)**2\n",
    "    final_output_error = activation_prime * output_error\n",
    "    return final_output_error"
   ]
  },
  {
   "cell_type": "code",
   "execution_count": 6,
   "metadata": {},
   "outputs": [],
   "source": [
    "layer1 = init_layer_weights(28*28,150);\n",
    "layer2 = init_layer_weights(150,50);\n",
    "layer3 = init_layer_weights(50,10);"
   ]
  },
  {
   "cell_type": "code",
   "execution_count": 7,
   "metadata": {},
   "outputs": [],
   "source": [
    "nsamples = 1000\n",
    "learning_rate = 0.1"
   ]
  },
  {
   "cell_type": "code",
   "execution_count": 8,
   "metadata": {},
   "outputs": [],
   "source": [
    "trainSampleX = x_train[0]\n",
    "trainSampleY = y_train[0]"
   ]
  },
  {
   "cell_type": "code",
   "execution_count": 9,
   "metadata": {},
   "outputs": [
    {
     "data": {
      "text/plain": [
       "(1, 784)"
      ]
     },
     "execution_count": 9,
     "metadata": {},
     "output_type": "execute_result"
    }
   ],
   "source": [
    "trainSampleX.shape"
   ]
  },
  {
   "cell_type": "code",
   "execution_count": 10,
   "metadata": {},
   "outputs": [],
   "source": [
    "#forward pass\n",
    "def fullforward(X, layer1,layer2,layer3):\n",
    "    output1 = forward_propagation(X, layer1)\n",
    "    output1act = forward_propagation_activation(output1)\n",
    "    output2 = forward_propagation(output1act, layer2)\n",
    "    output2act = forward_propagation_activation(output2)\n",
    "    output3 = forward_propagation(output2act, layer3)\n",
    "    output3act = forward_propagation_activation(output3)\n",
    "    return output1,output2,output3,output1act,output2act,output3act"
   ]
  },
  {
   "cell_type": "code",
   "execution_count": 11,
   "metadata": {},
   "outputs": [],
   "source": [
    "#backward pass\n",
    "def fullbackward(X,outputError,layer1,layer2,layer3,output1,output2,output3,output1act,output2act,output3act,learning_rate):\n",
    "    back_output3act = backward_propagation_activation(outputError, output3)\n",
    "    back_output3, updated_layer3 = backward_propagation(back_output3act, output2act, layer3, learning_rate)\n",
    "    back_output2act = backward_propagation_activation(back_output3, output2)\n",
    "    back_output2, updated_layer2 = backward_propagation(back_output2act, output1act, layer2, learning_rate)\n",
    "    back_output1act = backward_propagation_activation(back_output2, output1)\n",
    "    back_output1, updated_layer1 = backward_propagation(back_output1act, trainSampleX, layer1, learning_rate)\n",
    "    return updated_layer1, updated_layer2, updated_layer3"
   ]
  },
  {
   "cell_type": "code",
   "execution_count": 12,
   "metadata": {},
   "outputs": [],
   "source": [
    "def train(x_train, y_train, nsamples, layers, epochs, learning_rate):\n",
    "    updated_layer1, updated_layer2, updated_layer3 = layers[0], layers[1], layers[2]\n",
    "    for j in range(epochs):\n",
    "        E = 0;\n",
    "        for i in range(nsamples):\n",
    "            x = x_train[i]\n",
    "            y = y_train[i]\n",
    "            #fwd pass\n",
    "            output1,output2,output3,output1act,output2act,output3act= fullforward(x, updated_layer1, updated_layer2, updated_layer3)\n",
    "            #compute loss \n",
    "            E += mse(y,output3act)\n",
    "            #compute loss derivative to initiate backward pass\n",
    "            dE = mse_prime(y,output3act)\n",
    "            #backward pass\n",
    "            updated_layer1, updated_layer2, updated_layer3 = fullbackward(x,dE,updated_layer1, updated_layer2, updated_layer3, \n",
    "                                                                          output1, output2, output3, output1act, output2act, \n",
    "                                                                          output3act, learning_rate)\n",
    "            #avg error\n",
    "            E /= nsamples\n",
    "        print(\"Epoch number: \", j)\n",
    "        print(\"Epoch error is: \", E)\n",
    "        \n",
    "    return (updated_layer1, updated_layer2, updated_layer3)"
   ]
  },
  {
   "cell_type": "code",
   "execution_count": 13,
   "metadata": {},
   "outputs": [
    {
     "name": "stdout",
     "output_type": "stream",
     "text": [
      "Epoch number:  0\n",
      "Epoch error is:  0.0001363026606131494\n",
      "Epoch number:  1\n",
      "Epoch error is:  0.00012472711651959642\n",
      "Epoch number:  2\n",
      "Epoch error is:  0.00011970439386853888\n",
      "Epoch number:  3\n",
      "Epoch error is:  0.00010952468146809172\n",
      "Epoch number:  4\n",
      "Epoch error is:  0.00010761927567505201\n",
      "Epoch number:  5\n",
      "Epoch error is:  0.00010264079191902732\n",
      "Epoch number:  6\n",
      "Epoch error is:  9.239332257087941e-05\n",
      "Epoch number:  7\n",
      "Epoch error is:  8.565637048794431e-05\n",
      "Epoch number:  8\n",
      "Epoch error is:  8.331246896279258e-05\n",
      "Epoch number:  9\n",
      "Epoch error is:  7.889543341573936e-05\n",
      "Epoch number:  10\n",
      "Epoch error is:  6.725556983263765e-05\n",
      "Epoch number:  11\n",
      "Epoch error is:  5.0764080174331865e-05\n",
      "Epoch number:  12\n",
      "Epoch error is:  4.332203449034608e-05\n",
      "Epoch number:  13\n",
      "Epoch error is:  3.655669967537051e-05\n",
      "Epoch number:  14\n",
      "Epoch error is:  2.5419988006491553e-05\n",
      "Epoch number:  15\n",
      "Epoch error is:  2.1068110636697942e-05\n",
      "Epoch number:  16\n",
      "Epoch error is:  2.2806649440407534e-05\n",
      "Epoch number:  17\n",
      "Epoch error is:  2.2595912243044674e-05\n",
      "Epoch number:  18\n",
      "Epoch error is:  2.240667134612706e-05\n",
      "Epoch number:  19\n",
      "Epoch error is:  2.2249600059369337e-05\n",
      "Epoch number:  20\n",
      "Epoch error is:  2.1590204080302084e-05\n",
      "Epoch number:  21\n",
      "Epoch error is:  2.134538409538848e-05\n",
      "Epoch number:  22\n",
      "Epoch error is:  2.2030809926188373e-05\n",
      "Epoch number:  23\n",
      "Epoch error is:  2.3405082924195577e-05\n",
      "Epoch number:  24\n",
      "Epoch error is:  2.4601479547079408e-05\n",
      "Epoch number:  25\n",
      "Epoch error is:  2.530993592873611e-05\n",
      "Epoch number:  26\n",
      "Epoch error is:  2.546998574961695e-05\n",
      "Epoch number:  27\n",
      "Epoch error is:  2.778957281928668e-05\n",
      "Epoch number:  28\n",
      "Epoch error is:  2.9732250393911344e-05\n",
      "Epoch number:  29\n",
      "Epoch error is:  3.126324046190411e-05\n",
      "Epoch number:  30\n",
      "Epoch error is:  3.320248312515497e-05\n",
      "Epoch number:  31\n",
      "Epoch error is:  3.421989508832019e-05\n",
      "Epoch number:  32\n",
      "Epoch error is:  3.455168622727107e-05\n",
      "Epoch number:  33\n",
      "Epoch error is:  3.3979287920615166e-05\n",
      "Epoch number:  34\n",
      "Epoch error is:  3.1444681716998443e-05\n"
     ]
    }
   ],
   "source": [
    "epochs = 35\n",
    "layers = (layer1, layer2, layer3)\n",
    "trained_layers = train(x_train, y_train, nsamples, layers, epochs, learning_rate)"
   ]
  },
  {
   "cell_type": "code",
   "execution_count": 14,
   "metadata": {},
   "outputs": [
    {
     "data": {
      "text/plain": [
       "(10000, 1, 784)"
      ]
     },
     "execution_count": 14,
     "metadata": {},
     "output_type": "execute_result"
    }
   ],
   "source": [
    "x_test.shape"
   ]
  },
  {
   "cell_type": "code",
   "execution_count": 26,
   "metadata": {},
   "outputs": [
    {
     "name": "stdout",
     "output_type": "stream",
     "text": [
      "Test Sample ID:  8080\n",
      "Prediction:  3\n",
      "Truth:  3\n"
     ]
    }
   ],
   "source": [
    "#testing\n",
    "idx = np.random.randint(0,10000)\n",
    "print(\"Test Sample ID: \", idx)\n",
    "testSampleX = x_test[idx]\n",
    "testSampleY = y_test[idx]\n",
    "\n",
    "_,_,_,_,_, pred = fullforward(testSampleX, trained_layers[0], trained_layers[1], trained_layers[2])\n",
    "print(\"Prediction: \", np.argmax(pred))\n",
    "print(\"Truth: \", np.argmax(testSampleY))"
   ]
  },
  {
   "cell_type": "code",
   "execution_count": null,
   "metadata": {},
   "outputs": [],
   "source": []
  }
 ],
 "metadata": {
  "kernelspec": {
   "display_name": "Python 3",
   "language": "python",
   "name": "python3"
  },
  "language_info": {
   "codemirror_mode": {
    "name": "ipython",
    "version": 3
   },
   "file_extension": ".py",
   "mimetype": "text/x-python",
   "name": "python",
   "nbconvert_exporter": "python",
   "pygments_lexer": "ipython3",
   "version": "3.6.13"
  }
 },
 "nbformat": 4,
 "nbformat_minor": 4
}
